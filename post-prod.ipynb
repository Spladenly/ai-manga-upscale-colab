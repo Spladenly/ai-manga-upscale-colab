{
  "nbformat": 4,
  "nbformat_minor": 0,
  "metadata": {
    "colab": {
      "provenance": [],
      "private_outputs": true
    },
    "kernelspec": {
      "name": "python3",
      "display_name": "Python 3"
    },
    "language_info": {
      "name": "python"
    }
  },
  "cells": [
    {
      "cell_type": "markdown",
      "source": [
        "# AI Manga Colab Post-Production Toolset\n",
        "\n",
        "\n",
        "\n",
        "> You can omit any script you want. Run the scripts you need consecutively (in the order they're listed; this is important!).\n"
      ],
      "metadata": {
        "id": "UlHBePJZOTgD"
      }
    },
    {
      "cell_type": "markdown",
      "source": [
        "This script renames all the manga pages to \"1.png 2.png 3.png\", \"01.png 02.png 03.png\", or \"001.png 002.png 003.png\" depending on the amount of the files present in each folder."
      ],
      "metadata": {
        "id": "RbC53ZaQOuW_"
      }
    },
    {
      "cell_type": "code",
      "source": [
        "# @title Page Renamer {display-mode: \"form\"}\n",
        "\n",
        "import os\n",
        "from google.colab import drive\n",
        "from tqdm import tqdm\n",
        "\n",
        "def check_connect_gdrive():\n",
        "  if not os.path.exists('/content/gdrive/MyDrive'):\n",
        "    print(\"Google Drive connection in progress...\")\n",
        "    drive.mount('/content/gdrive')\n",
        "\n",
        "def rename_pages(path):\n",
        "  for folder in tqdm(os.listdir(path), desc=\"Renaming\", unit=\"dir\"):\n",
        "    folder_path = os.path.join(path, folder)\n",
        "\n",
        "    if os.path.isdir(folder_path):\n",
        "      # This function renames files in a format that ensures a consistent number of digits,\n",
        "      # adding leading zeros based on the total number of files: 1 digit for less than 10 files,\n",
        "      # 2 digits for 10 to 99 files, and 3 digits for 100 or more files. So, digit_number represents\n",
        "      # the minumum amount of characters a name will hold -- by default just 1.\n",
        "      file_count = 0\n",
        "      digit_number = 1\n",
        "\n",
        "      # Count the amount of files in a dir; rename files to temp names, so that the possibility of names colliding is accounted for.\n",
        "      for file in os.listdir(folder_path):\n",
        "        file_path = os.path.join(folder_path, file)\n",
        "\n",
        "        if os.path.isfile(file_path):\n",
        "            file_count += 1\n",
        "            new_file_path = os.path.join(folder_path, \"tmpnm_\" + file)\n",
        "\n",
        "            if file_path != new_file_path:\n",
        "                os.rename(file_path, new_file_path)\n",
        "\n",
        "      # Calculate the minimal amount of characters needed based on the amount of files.\n",
        "      if (file_count > 9 and file_count < 100):\n",
        "        digit_number = 2\n",
        "      elif (file_count >= 100):\n",
        "        digit_number = 3\n",
        "\n",
        "      file_number = 0\n",
        "      for file in os.listdir(folder_path):\n",
        "        file_path = os.path.join(folder_path, file)\n",
        "\n",
        "        if os.path.isfile(file_path):\n",
        "            file_number += 1\n",
        "            new_file_path = os.path.join(folder_path, '{:0{}}'.format(file_number, digit_number) + os.path.splitext(file)[1])\n",
        "\n",
        "            if file_path != new_file_path:\n",
        "                os.rename(file_path, new_file_path)\n",
        "\n",
        "def main():\n",
        "  print(\"[AI Manga Upscale Colab] Page Renamer\")\n",
        "\n",
        "  check_connect_gdrive()\n",
        "\n",
        "  if os.path.exists(\"/content/gdrive/MyDrive/ESRGAN/output\"):\n",
        "    rename_pages(\"/content/gdrive/MyDrive/ESRGAN/output\")\n",
        "\n",
        "if __name__ == \"__main__\":\n",
        "  main()"
      ],
      "metadata": {
        "id": "d-iiSfau-6b2"
      },
      "execution_count": null,
      "outputs": []
    },
    {
      "cell_type": "markdown",
      "source": [
        "Use imagemagick to downscale your result. Just remember to have enough space on your Google Drive."
      ],
      "metadata": {
        "id": "lcPXMvOZThJ2"
      }
    },
    {
      "cell_type": "code",
      "source": [
        "# @title Downscaler {display-mode: \"form\"}\n",
        "\n",
        "# @markdown <h1>Select a target resolution or a percentage to downscale by</h1>\n",
        "selection = \"2145x3056\" # @param [\"2145x3056\", \"75%\", \"50%\", \"custom\"]\n",
        "# @markdown <h1>This will be ignored unless \"custom\" is selected in the previous field. Provide either a percentage or a resolution below.\n",
        "custom_selection = \"\" # @param {type:\"string\"}\n",
        "\n",
        "import os\n",
        "import subprocess\n",
        "from google.colab import drive\n",
        "from tqdm import tqdm\n",
        "\n",
        "def check_install_imagemagick():\n",
        "  if not os.path.exists('/usr/bin/mogrify'):\n",
        "    print(\"Installing imagemagick...\")\n",
        "    subprocess.run([\"apt\", \"-y\", \"install\", \"imagemagick\"])\n",
        "\n",
        "def check_connect_gdrive():\n",
        "  if not os.path.exists('/content/gdrive/MyDrive'):\n",
        "    print(\"Google Drive connection in progress...\")\n",
        "    drive.mount('/content/gdrive')\n",
        "\n",
        "def check_create_downscaled():\n",
        "  if not os.path.exists('/content/gdrive/MyDrive/ESRGAN/output_downscaled'):\n",
        "    os.mkdir('/content/gdrive/MyDrive/ESRGAN/output_downscaled')\n",
        "\n",
        "def downscale(path, resize_size):\n",
        "  if not os.path.isdir(path):\n",
        "    print(f\"{path} is not a valid directory. Cannot continue.\")\n",
        "    return\n",
        "\n",
        "  files = [f for f in os.listdir(path) if os.path.isfile(os.path.join(path, f))]\n",
        "  path_out = os.path.join(path, \"_scaled\")\n",
        "\n",
        "  if not os.path.exists(path_out):\n",
        "    os.mkdir(path_out)\n",
        "\n",
        "  for file in files:\n",
        "      file_path = os.path.join(path, file)\n",
        "      subprocess.run([\"mogrify\", \"-path\", path_out, \"-resize\", resize_size, \"-format\", \"png\", file_path])\n",
        "\n",
        "def move_delete_folder(source_folder, destination_folder):\n",
        "    if not os.path.exists(source_folder):\n",
        "        print(f\"The source folder '{source_folder}' does not exist.\")\n",
        "        return\n",
        "\n",
        "    if not os.path.exists(destination_folder):\n",
        "        os.makedirs(destination_folder)\n",
        "\n",
        "    files = os.listdir(source_folder)\n",
        "\n",
        "    for file in files:\n",
        "        source_path = os.path.join(source_folder, file)\n",
        "        destination_path = os.path.join(destination_folder, file)\n",
        "        os.rename(source_path, destination_path)\n",
        "\n",
        "    os.rmdir(source_folder)\n",
        "\n",
        "def loop_downscale(path, resize_size):\n",
        "  folders = os.listdir(path)\n",
        "\n",
        "  for folder in tqdm(folders, desc=\"Downscaling\", unit=\"dir\"):\n",
        "      folder_path = os.path.join(path, folder)\n",
        "\n",
        "      if os.path.isdir(folder_path):\n",
        "          downscale(folder_path, resize_size)\n",
        "          move_delete_folder(os.path.join(folder_path, \"_scaled\"), os.path.join('/content/gdrive/MyDrive/ESRGAN/output_downscaled', folder))\n",
        "\n",
        "def main():\n",
        "  print(\"[AI Manga Upscale Colab] Downscaler\")\n",
        "\n",
        "  check_install_imagemagick()\n",
        "  check_connect_gdrive()\n",
        "  check_create_downscaled()\n",
        "\n",
        "  if selection != \"custom\":\n",
        "    print(f\"Using {selection}\")\n",
        "    loop_downscale(\"/content/gdrive/MyDrive/ESRGAN/output\", selection)\n",
        "  else:\n",
        "    print(f\"Using {custom_selection}\")\n",
        "    loop_downscale(\"/content/gdrive/MyDrive/ESRGAN/output\", custom_selection)\n",
        "\n",
        "if __name__ == \"__main__\":\n",
        "  main()"
      ],
      "metadata": {
        "id": "rYmhryHJD2lC"
      },
      "execution_count": null,
      "outputs": []
    },
    {
      "cell_type": "markdown",
      "source": [
        "Compile the result into the CBZ files."
      ],
      "metadata": {
        "id": "c8rTdJY6UrRT"
      }
    },
    {
      "cell_type": "code",
      "source": [
        "# @title CBZ Creator {display-mode: \"form\"}\n",
        "\n",
        "import os\n",
        "import zipfile\n",
        "from tqdm import tqdm\n",
        "\n",
        "def check_connect_gdrive():\n",
        "  if not os.path.exists('/content/gdrive/MyDrive'):\n",
        "    print(\"Google Drive connection in progress...\")\n",
        "    drive.mount('/content/gdrive')\n",
        "\n",
        "def cbz_files(path, output_path):\n",
        "    for folder in tqdm(os.listdir(path), desc=\"Creating CBZs\", unit=\"cbz\"):\n",
        "        folder_path = os.path.join(path, folder)\n",
        "\n",
        "        if os.path.isdir(folder_path):\n",
        "            cbz_path = os.path.join(output_path, folder + \".cbz\")\n",
        "\n",
        "            with zipfile.ZipFile(cbz_path, 'w', zipfile.ZIP_DEFLATED) as cbz_file:\n",
        "                for file in os.listdir(folder_path):\n",
        "                    file_path = os.path.join(folder_path, file)\n",
        "\n",
        "                    if os.path.isfile(file_path):\n",
        "                        # We don't want to include the folder into the cbz file's structure, so\n",
        "                        # we calculate the relative path and use it instead.\n",
        "                        relative_path = os.path.relpath(file_path, folder_path)\n",
        "                        cbz_file.write(file_path, arcname=relative_path)\n",
        "\n",
        "def main():\n",
        "  print(\"[AI Manga Upscale Colab] CBZ Creator\")\n",
        "\n",
        "  check_connect_gdrive()\n",
        "\n",
        "  if not os.path.exists(\"/content/gdrive/MyDrive/ESRGAN/output_cbz\"):\n",
        "    os.mkdir(\"/content/gdrive/MyDrive/ESRGAN/output_cbz\")\n",
        "\n",
        "  if os.path.exists(\"/content/gdrive/MyDrive/ESRGAN/output_downscaled\"):\n",
        "    cbz_files(\"/content/gdrive/MyDrive/ESRGAN/output_downscaled\", \"/content/gdrive/MyDrive/ESRGAN/output_cbz\")\n",
        "  elif os.path.exists(\"/content/gdrive/MyDrive/ESRGAN/output\"):\n",
        "    cbz_files(\"/content/gdrive/MyDrive/ESRGAN/output\", \"/content/gdrive/MyDrive/ESRGAN/output_cbz\")\n",
        "\n",
        "\n",
        "if __name__ == \"__main__\":\n",
        "  main()"
      ],
      "metadata": {
        "id": "836A_3lbAu3G"
      },
      "execution_count": null,
      "outputs": []
    }
  ]
}